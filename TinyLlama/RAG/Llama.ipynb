{
 "cells": [
  {
   "cell_type": "markdown",
   "metadata": {},
   "source": [
    "RAG System Using Llama2 With Hugging Face"
   ]
  },
  {
   "cell_type": "code",
   "execution_count": null,
   "metadata": {},
   "outputs": [],
   "source": [
    "!pip install pypdf\n",
    "\n",
    "!pip install -q transformers einops accelerate langchain bitsandbytes\n",
    "\n",
    "## Embedding\n",
    "!pip install install sentence_transformers\n",
    "\n",
    "!pip install llama_index\n",
    "\n"
   ]
  },
  {
   "cell_type": "code",
   "execution_count": null,
   "metadata": {},
   "outputs": [],
   "source": [
    "## Importing Libraries\n",
    "\n",
    "from llama_index import VectorStoreIndex,SimpleDirectoryReader,ServiceContext \n",
    "from llama_index.llms import HuggingFaceLLM\n",
    "from llama_index.prompts.prompts import SimpleInputPrompt"
   ]
  },
  {
   "cell_type": "code",
   "execution_count": null,
   "metadata": {},
   "outputs": [],
   "source": [
    "#\n",
    "documents = SimpleDirectoryReader(\"/content/data\").read()\n",
    "documents"
   ]
  },
  {
   "cell_type": "code",
   "execution_count": null,
   "metadata": {},
   "outputs": [],
   "source": [
    "system_prompt = \"\"\"\n",
    "you are a Q&A assistant. your job is to answer questions accurately using the information provided to you.\n",
    "\"\"\"\n",
    "\n",
    "## default format supported by llama2\n",
    "SimpleInputPrompt(\"<USER>{query}<ASSISTANT>\", system_prompt).generate(\"what is the capital of France?\")"
   ]
  }
 ],
 "metadata": {
  "language_info": {
   "name": "python"
  }
 },
 "nbformat": 4,
 "nbformat_minor": 2
}
